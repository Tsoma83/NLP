{
 "cells": [
  {
   "cell_type": "markdown",
   "id": "2ed235e2",
   "metadata": {},
   "source": [
    "# -*- coding: utf-8 -*-\n",
    "\n",
    "RNN used in the comment detection class"
   ]
  },
  {
   "cell_type": "markdown",
   "id": "20a74607",
   "metadata": {},
   "source": [
    "## Definition of RNN\n",
    "\n",
    "Recurrent Neural Networks (RNNs) are a class of artificial neural networks designed for processing sequential data. Unlike feedforward neural networks, which process input data in a single forward pass, RNNs are capable of capturing and modeling temporal dependencies within the data. This makes them well-suited for tasks involving sequences, such as time series data, natural language processing, speech recognition, and more."
   ]
  },
  {
   "cell_type": "code",
   "execution_count": 1,
   "id": "e31742b5",
   "metadata": {},
   "outputs": [
    {
     "name": "stderr",
     "output_type": "stream",
     "text": [
      "/Users/cash/opt/anaconda3/lib/python3.9/site-packages/pandas/core/computation/expressions.py:21: UserWarning: Pandas requires version '2.8.0' or newer of 'numexpr' (version '2.7.3' currently installed).\n",
      "  from pandas.core.computation.check import NUMEXPR_INSTALLED\n",
      "/Users/cash/opt/anaconda3/lib/python3.9/site-packages/pandas/core/arrays/masked.py:62: UserWarning: Pandas requires version '1.3.4' or newer of 'bottleneck' (version '1.3.2' currently installed).\n",
      "  from pandas.core import (\n"
     ]
    }
   ],
   "source": [
    "from functools import partial\n",
    "\n",
    "import pandas as pd\n",
    "import matplotlib.pyplot as plt\n",
    "\n",
    "from datasets import load_dataset\n",
    "\n",
    "import torch\n",
    "import torch.nn as nn\n",
    "import torch.nn.functional as F\n",
    "import torch.optim as optim\n",
    "from torch.utils.data import TensorDataset, DataLoader"
   ]
  },
  {
   "cell_type": "markdown",
   "id": "b24fb0d7",
   "metadata": {},
   "source": [
    "# Data loading"
   ]
  },
  {
   "cell_type": "code",
   "execution_count": 2,
   "id": "7a722695",
   "metadata": {},
   "outputs": [
    {
     "name": "stderr",
     "output_type": "stream",
     "text": [
      "Found cached dataset imdb (/Users/cash/.cache/huggingface/datasets/imdb/plain_text/1.0.0/d613c88cf8fa3bab83b4ded3713f1f74830d1100e171db75bbddb80b3345c9c0)\n"
     ]
    },
    {
     "data": {
      "application/vnd.jupyter.widget-view+json": {
       "model_id": "1f1b0aa0085048e1bdf33a942ab9d057",
       "version_major": 2,
       "version_minor": 0
      },
      "text/plain": [
       "  0%|          | 0/3 [00:00<?, ?it/s]"
      ]
     },
     "metadata": {},
     "output_type": "display_data"
    },
    {
     "data": {
      "text/html": [
       "<div>\n",
       "<style scoped>\n",
       "    .dataframe tbody tr th:only-of-type {\n",
       "        vertical-align: middle;\n",
       "    }\n",
       "\n",
       "    .dataframe tbody tr th {\n",
       "        vertical-align: top;\n",
       "    }\n",
       "\n",
       "    .dataframe thead th {\n",
       "        text-align: right;\n",
       "    }\n",
       "</style>\n",
       "<table border=\"1\" class=\"dataframe\">\n",
       "  <thead>\n",
       "    <tr style=\"text-align: right;\">\n",
       "      <th></th>\n",
       "      <th>comment</th>\n",
       "      <th>label</th>\n",
       "    </tr>\n",
       "  </thead>\n",
       "  <tbody>\n",
       "    <tr>\n",
       "      <th>11936</th>\n",
       "      <td>ladies and gentlemen, allow us to introduce to...</td>\n",
       "      <td>0</td>\n",
       "    </tr>\n",
       "    <tr>\n",
       "      <th>8331</th>\n",
       "      <td>one of the greatest lessons i ever had in how ...</td>\n",
       "      <td>0</td>\n",
       "    </tr>\n",
       "    <tr>\n",
       "      <th>15634</th>\n",
       "      <td>in crystal city, a group of mormons hire the h...</td>\n",
       "      <td>1</td>\n",
       "    </tr>\n",
       "    <tr>\n",
       "      <th>8762</th>\n",
       "      <td>the relationship between the lone ranger and t...</td>\n",
       "      <td>0</td>\n",
       "    </tr>\n",
       "    <tr>\n",
       "      <th>17880</th>\n",
       "      <td>in the line of fire gives us a great game of c...</td>\n",
       "      <td>1</td>\n",
       "    </tr>\n",
       "    <tr>\n",
       "      <th>16796</th>\n",
       "      <td>fellowe's drama about a couple's marriage whic...</td>\n",
       "      <td>1</td>\n",
       "    </tr>\n",
       "    <tr>\n",
       "      <th>19632</th>\n",
       "      <td>a great story, although one we are certainly f...</td>\n",
       "      <td>1</td>\n",
       "    </tr>\n",
       "    <tr>\n",
       "      <th>12185</th>\n",
       "      <td>this film could have been great- but wasn't. a...</td>\n",
       "      <td>0</td>\n",
       "    </tr>\n",
       "    <tr>\n",
       "      <th>22916</th>\n",
       "      <td>spoilers: this movie has it's problems, but in...</td>\n",
       "      <td>1</td>\n",
       "    </tr>\n",
       "    <tr>\n",
       "      <th>12530</th>\n",
       "      <td>well, i have to disagree with leonard maltin o...</td>\n",
       "      <td>1</td>\n",
       "    </tr>\n",
       "  </tbody>\n",
       "</table>\n",
       "</div>"
      ],
      "text/plain": [
       "                                                 comment  label\n",
       "11936  ladies and gentlemen, allow us to introduce to...      0\n",
       "8331   one of the greatest lessons i ever had in how ...      0\n",
       "15634  in crystal city, a group of mormons hire the h...      1\n",
       "8762   the relationship between the lone ranger and t...      0\n",
       "17880  in the line of fire gives us a great game of c...      1\n",
       "16796  fellowe's drama about a couple's marriage whic...      1\n",
       "19632  a great story, although one we are certainly f...      1\n",
       "12185  this film could have been great- but wasn't. a...      0\n",
       "22916  spoilers: this movie has it's problems, but in...      1\n",
       "12530  well, i have to disagree with leonard maltin o...      1"
      ]
     },
     "execution_count": 2,
     "metadata": {},
     "output_type": "execute_result"
    }
   ],
   "source": [
    "dataset = load_dataset('imdb')\n",
    "df_train = pd.DataFrame.from_dict(\n",
    "    {\n",
    "        'comment': dataset['train']['text'],\n",
    "        'label': dataset['train']['label']\n",
    "    }\n",
    ")\n",
    "df_test = pd.DataFrame.from_dict(\n",
    "    {\n",
    "        'comment': dataset['test']['text'],\n",
    "        'label': dataset['test']['label']\n",
    "    }\n",
    ")\n",
    "punctuation_characters = '.!?,()[]{}\"\\''\n",
    "for punctuation in punctuation_characters:\n",
    "    df_train['comment'] = df_train.comment.str.replace(punctuation, f' {punctuation} ')\n",
    "\n",
    "df_train['comment'] = df_train.comment.str.lower()\n",
    "df_test['comment'] = df_test.comment.str.lower()\n",
    "\n",
    "df_train.sample(10)\n",
    "\n",
    "df_test.sample(10)"
   ]
  },
  {
   "cell_type": "markdown",
   "id": "c0db545b",
   "metadata": {},
   "source": [
    "# Text preprocessing\n",
    "Let's begin preprocessing our data. The first thing we need to do is to *tokenize* our comments. We transform every comment into a list of word by using `split`. We will also add a `n_tokens` column into `df_train` to visualize the comment length distribution.\n",
    "\n"
   ]
  },
  {
   "cell_type": "code",
   "execution_count": 3,
   "id": "23de18b2",
   "metadata": {},
   "outputs": [],
   "source": [
    "df_train['split_comment'] = df_train.comment.str.split()\n",
    "df_train['n_tokens'] = df_train.split_comment.apply(len)\n",
    "df_test['split_comment'] = df_test.comment.str.split()"
   ]
  },
  {
   "cell_type": "markdown",
   "id": "354173e2",
   "metadata": {},
   "source": [
    "# Let's now display an histogram of the comment lengths. \n",
    "Starting from the course code, you can change the `bins` parameter of the model to change the resolution of the histogram.\"\"\"\n",
    "\n",
    "\n"
   ]
  },
  {
   "cell_type": "code",
   "execution_count": 4,
   "id": "ff5b384d",
   "metadata": {},
   "outputs": [
    {
     "data": {
      "text/plain": [
       "<Axes: >"
      ]
     },
     "execution_count": 4,
     "metadata": {},
     "output_type": "execute_result"
    },
    {
     "data": {
      "image/png": "[encoded data removed]",
      "text/plain": [
       "<Figure size 432x288 with 1 Axes>"
      ]
     },
     "metadata": {
      "needs_background": "light"
     },
     "output_type": "display_data"
    }
   ],
   "source": [
    "df_train.n_tokens.hist(bins = 50)"
   ]
  },
  {
   "cell_type": "markdown",
   "id": "6d397d71",
   "metadata": {},
   "source": [
    "# As we can see in this histogram, the comment length distribution has a very long tail. \n",
    "To prevent the model from having to work with extremely long sequences all the time, we are going to truncate our sequences to 500 tokens. \n",
    "\n",
    "To do this, we will use the same code as we used in the course.\n",
    "\"\"\""
   ]
  },
  {
   "cell_type": "code",
   "execution_count": 6,
   "id": "d38be44a",
   "metadata": {},
   "outputs": [
    {
     "name": "stdout",
     "output_type": "stream",
     "text": [
      "['\"', 'i', 'am', 'curious:', 'yellow', '\"', 'is', 'a', 'risible', 'and', 'pretentious', 'steaming', 'pile', '.', 'it', 'doesn', \"'\", 't', 'matter', 'what', 'one', \"'\", 's', 'political', 'views', 'are', 'because', 'this', 'film', 'can', 'hardly', 'be', 'taken', 'seriously', 'on', 'any', 'level', '.', 'as', 'for', 'the', 'claim', 'that', 'frontal', 'male', 'nudity', 'is', 'an', 'automatic', 'nc-17', ',', 'that', 'isn', \"'\", 't', 'true', '.', 'i', \"'\", 've', 'seen', 'r-rated', 'films', 'with', 'male', 'nudity', '.', 'granted', ',', 'they', 'only', 'offer', 'some', 'fleeting', 'views', ',', 'but', 'where', 'are', 'the', 'r-rated', 'films', 'with', 'gaping', 'vulvas', 'and', 'flapping', 'labia', '?', 'nowhere', ',', 'because', 'they', 'don', \"'\", 't', 'exist', '.', 'the', 'same', 'goes', 'for', 'those', 'crappy', 'cable', 'shows:', 'schlongs', 'swinging', 'in', 'the', 'breeze', 'but', 'not', 'a', 'clitoris', 'in', 'sight', '.', 'and', 'those', 'pretentious', 'indie', 'movies', 'like', 'the', 'brown', 'bunny', ',', 'in', 'which', 'we', \"'\", 're', 'treated', 'to', 'the', 'site', 'of', 'vincent', 'gallo', \"'\", 's', 'throbbing', 'johnson', ',', 'but', 'not', 'a', 'trace', 'of', 'pink', 'visible', 'on', 'chloe', 'sevigny', '.', 'before', 'crying', '(', 'or', 'implying', ')', '\"', 'double-standard', '\"', 'in', 'matters', 'of', 'nudity', ',', 'the', 'mentally', 'obtuse', 'should', 'take', 'into', 'account', 'one', 'unavoidably', 'obvious', 'anatomical', 'difference', 'between', 'men', 'and', 'women:', 'there', 'are', 'no', 'genitals', 'on', 'display', 'when', 'actresses', 'appears', 'nude', ',', 'and', 'the', 'same', 'cannot', 'be', 'said', 'for', 'a', 'man', '.', 'in', 'fact', ',', 'you', 'generally', 'won', \"'\", 't', 'see', 'female', 'genitals', 'in', 'an', 'american', 'film', 'in', 'anything', 'short', 'of', 'porn', 'or', 'explicit', 'erotica', '.', 'this', 'alleged', 'double-standard', 'is', 'less', 'a', 'double', 'standard', 'than', 'an', 'admittedly', 'depressing', 'ability', 'to', 'come', 'to', 'terms', 'culturally', 'with', 'the', 'insides', 'of', 'women', \"'\", 's', 'bodies', '.', '<pad>', '<pad>', '<pad>', '<pad>', '<pad>', '<pad>', '<pad>', '<pad>', '<pad>', '<pad>', '<pad>', '<pad>', '<pad>', '<pad>', '<pad>', '<pad>', '<pad>', '<pad>', '<pad>', '<pad>', '<pad>', '<pad>', '<pad>', '<pad>', '<pad>', '<pad>', '<pad>', '<pad>', '<pad>', '<pad>', '<pad>', '<pad>', '<pad>', '<pad>', '<pad>', '<pad>', '<pad>', '<pad>', '<pad>', '<pad>', '<pad>', '<pad>', '<pad>', '<pad>', '<pad>', '<pad>', '<pad>', '<pad>', '<pad>', '<pad>', '<pad>', '<pad>', '<pad>', '<pad>', '<pad>', '<pad>', '<pad>', '<pad>', '<pad>', '<pad>', '<pad>', '<pad>', '<pad>', '<pad>', '<pad>', '<pad>', '<pad>', '<pad>', '<pad>', '<pad>', '<pad>', '<pad>', '<pad>', '<pad>', '<pad>', '<pad>', '<pad>', '<pad>', '<pad>', '<pad>', '<pad>', '<pad>', '<pad>', '<pad>', '<pad>', '<pad>', '<pad>', '<pad>', '<pad>', '<pad>', '<pad>', '<pad>', '<pad>', '<pad>', '<pad>', '<pad>', '<pad>', '<pad>', '<pad>', '<pad>', '<pad>', '<pad>', '<pad>', '<pad>', '<pad>', '<pad>', '<pad>', '<pad>', '<pad>', '<pad>', '<pad>', '<pad>', '<pad>', '<pad>', '<pad>', '<pad>', '<pad>', '<pad>', '<pad>', '<pad>', '<pad>', '<pad>', '<pad>', '<pad>', '<pad>', '<pad>', '<pad>', '<pad>', '<pad>', '<pad>', '<pad>', '<pad>', '<pad>', '<pad>', '<pad>', '<pad>', '<pad>', '<pad>', '<pad>', '<pad>', '<pad>', '<pad>', '<pad>', '<pad>', '<pad>', '<pad>', '<pad>', '<pad>', '<pad>', '<pad>', '<pad>', '<pad>', '<pad>', '<pad>', '<pad>', '<pad>', '<pad>', '<pad>', '<pad>', '<pad>', '<pad>', '<pad>', '<pad>', '<pad>', '<pad>', '<pad>', '<pad>', '<pad>', '<pad>', '<pad>', '<pad>', '<pad>', '<pad>', '<pad>', '<pad>', '<pad>', '<pad>', '<pad>', '<pad>', '<pad>', '<pad>', '<pad>', '<pad>', '<pad>', '<pad>', '<pad>', '<pad>', '<pad>', '<pad>', '<pad>', '<pad>', '<pad>', '<pad>', '<pad>', '<pad>', '<pad>', '<pad>', '<pad>', '<pad>', '<pad>', '<pad>', '<pad>', '<pad>', '<pad>', '<pad>', '<pad>', '<pad>', '<pad>', '<pad>', '<pad>', '<pad>', '<pad>', '<pad>', '<pad>', '<pad>', '<pad>', '<pad>', '<pad>', '<pad>', '<pad>', '<pad>', '<pad>', '<pad>', '<pad>', '<pad>', '<pad>', '<pad>', '<pad>', '<pad>', '<pad>', '<pad>', '<pad>', '<pad>', '<pad>', '<pad>', '<pad>', '<pad>', '<pad>', '<pad>', '<pad>', '<pad>', '<pad>']\n"
     ]
    }
   ],
   "source": [
    "def pad_comment(token_list, final_len, pad_token = '<pad>'):\n",
    "  if len(token_list) > final_len:\n",
    "    return token_list[:final_len]\n",
    "  return token_list + [pad_token] * (final_len - len(token_list))\n",
    "\n",
    "max_token_comment = 500\n",
    "df_train['padded_comment'] = df_train.split_comment.apply(\n",
    "    partial(\n",
    "        pad_comment,\n",
    "        final_len = max_token_comment\n",
    "    )\n",
    ")\n",
    "df_test['padded_comment'] = df_test.split_comment.apply(\n",
    "    partial(\n",
    "        pad_comment,\n",
    "        final_len = max_token_comment\n",
    "    )\n",
    ")\n",
    "\n",
    "print(df_train.padded_comment.iloc[1])"
   ]
  },
  {
   "cell_type": "markdown",
   "id": "024f9ce3",
   "metadata": {},
   "source": [
    "# Now that we have created our training samples, \n",
    "it is time to build our vocabulary. The vocabulary is simply the set of words that can happen in our comments. If we want to test our model on comments using words that are out of our vocabulary, we will replace them with the token `<oov>` (Out Of Vocabulary).\"\"\"\n",
    "\n"
   ]
  },
  {
   "cell_type": "code",
   "execution_count": 7,
   "id": "b8c130a7",
   "metadata": {},
   "outputs": [
    {
     "name": "stdout",
     "output_type": "stream",
     "text": [
      "1914\n",
      "merging\n",
      "elements:\n",
      "later-on\n",
      "zanatos\n"
     ]
    }
   ],
   "source": [
    "vocabulary = set()\n",
    "for comment in df_train.split_comment:\n",
    "  vocabulary.update(set(comment))\n",
    "print(*list(vocabulary)[:5], sep = '\\n')"
   ]
  },
  {
   "cell_type": "markdown",
   "id": "19b69aaf",
   "metadata": {},
   "source": [
    "# Using the newly created vocabulary, \n",
    "we can build `token_to_idx` and `idx_to_token` mappings that we will use to encode sequences prior to feeding them to the model.\"\"\"\n",
    "\n"
   ]
  },
  {
   "cell_type": "code",
   "execution_count": 8,
   "id": "657044db",
   "metadata": {},
   "outputs": [
    {
     "name": "stdout",
     "output_type": "stream",
     "text": [
      "Number of words in the vocabulary: 111749\n",
      "1\n",
      "72575\n",
      "101821\n",
      "self-appointed\n",
      "injury/condition\n",
      "['this', 'film', 'was', 'probably', 'inspired', 'by', 'godard', \"'\", 's', 'masculin', ',', 'féminin', 'and', 'i', 'urge']\n",
      "[86590, 59714, 13484, 83609, 54871, 96542, 109586, 75588, 47598, 37403, 28494, 69383, 51236, 74269, 39978]\n",
      "this film was probably inspired by godard ' s masculin , féminin and i urge you to see that film instead . <br /><br />the film has two strong elements and those are , ( 1 ) the realistic acting ( 2 ) the impressive , undeservedly good , photo . apart from that , what strikes me most is the endless stream of silliness . lena nyman has to be most annoying actress in the world . she acts so stupid and with all the nudity in this film , . . . it ' s unattractive . comparing to godard ' s film , intellectuality has been replaced with stupidity . without going too far on this subject , i would say that follows from the difference in ideals between the french and the swedish society . <br /><br />a movie of its time , and place . 2/10 .\n"
     ]
    }
   ],
   "source": [
    "token_to_idx = {\n",
    "    '<oov>': 0,\n",
    "    '<pad>': 1,\n",
    "    **{\n",
    "        token: (idx + 2)\n",
    "        for idx, token in enumerate(vocabulary)\n",
    "    }\n",
    "}\n",
    "\n",
    "print('Number of words in the vocabulary:', len(token_to_idx))\n",
    "print(token_to_idx['<pad>'])\n",
    "print(token_to_idx['the'])\n",
    "print(token_to_idx['happy'])\n",
    "\n",
    "idx_to_token = {\n",
    "    idx: token\n",
    "    for token, idx in token_to_idx.items()\n",
    "}\n",
    "print(idx_to_token[6477])\n",
    "print(idx_to_token[1234])\n",
    "\n",
    "def encode(comment_tokens, token_to_idx):\n",
    "  return [token_to_idx.get(token, 0) for token in comment_tokens]\n",
    "\n",
    "def decode(comment_token_indices, idx_to_token):\n",
    "  try:\n",
    "    first_pad_index = comment_token_indices.index(1)\n",
    "  except:\n",
    "    first_pad_index = len(comment_token_indices)\n",
    "  return ' '.join(idx_to_token[token_id] for token_id in comment_token_indices[:first_pad_index])\n",
    "\n",
    "comment = df_train.padded_comment.iloc[3]\n",
    "print(comment[:15])\n",
    "\n",
    "\n",
    "encoded_comment = encode(comment, token_to_idx)\n",
    "print(encoded_comment[:15])\n",
    "print(decode(encoded_comment, idx_to_token))"
   ]
  },
  {
   "cell_type": "markdown",
   "id": "30d30dad",
   "metadata": {},
   "source": [
    "# We can now add `encoded_comment` columns to both `df_train` \n",
    "and `df_test` to encode all of our model inputs. \"\"\"\n",
    "\n"
   ]
  },
  {
   "cell_type": "code",
   "execution_count": 9,
   "id": "696d5afb",
   "metadata": {},
   "outputs": [
    {
     "name": "stdout",
     "output_type": "stream",
     "text": [
      "                                             comment  label  \\\n",
      "0  i rented i am curious-yellow from my video sto...      0   \n",
      "1   \" i am curious: yellow \"  is a risible and pr...      0   \n",
      "2  if only to avoid making this type of film in t...      0   \n",
      "3  this film was probably inspired by godard ' s ...      0   \n",
      "4  oh ,  brother .  .  . after hearing about this...      0   \n",
      "\n",
      "                                       split_comment  n_tokens  \\\n",
      "0  [i, rented, i, am, curious-yellow, from, my, v...       325   \n",
      "1  [\", i, am, curious:, yellow, \", is, a, risible...       258   \n",
      "2  [if, only, to, avoid, making, this, type, of, ...       108   \n",
      "3  [this, film, was, probably, inspired, by, goda...       152   \n",
      "4  [oh, ,, brother, ., ., ., after, hearing, abou...       408   \n",
      "\n",
      "                                      padded_comment  \\\n",
      "0  [i, rented, i, am, curious-yellow, from, my, v...   \n",
      "1  [\", i, am, curious:, yellow, \", is, a, risible...   \n",
      "2  [if, only, to, avoid, making, this, type, of, ...   \n",
      "3  [this, film, was, probably, inspired, by, goda...   \n",
      "4  [oh, ,, brother, ., ., ., after, hearing, abou...   \n",
      "\n",
      "                                     encoded_comment  \n",
      "0  [74269, 103569, 74269, 36015, 23858, 7839, 100...  \n",
      "1  [92440, 74269, 36015, 65661, 83270, 92440, 583...  \n",
      "2  [20080, 64479, 46977, 79637, 82969, 86590, 211...  \n",
      "3  [86590, 59714, 13484, 83609, 54871, 96542, 109...  \n",
      "4  [82984, 28494, 61216, 75599, 75599, 75599, 168...  \n"
     ]
    }
   ],
   "source": [
    "df_train['encoded_comment'] = df_train.padded_comment.apply(\n",
    "    partial(\n",
    "        encode,\n",
    "        token_to_idx = token_to_idx\n",
    "    )\n",
    ")\n",
    "df_test['encoded_comment'] = df_test.padded_comment.apply(\n",
    "    partial(\n",
    "        encode,\n",
    "        token_to_idx = token_to_idx\n",
    "    )\n",
    ")\n",
    "\n",
    "df_train['encoded_comment'] = df_train['padded_comment'].apply(\n",
    "    lambda x: encode(x, token_to_idx)\n",
    ")\n",
    "\n",
    "df_test['encoded_comment'] = df_test['padded_comment'].apply(\n",
    "    lambda x: encode(x, token_to_idx)\n",
    ")\n",
    "\n",
    "print(df_train.head())  # Affiche un extrait des données d'entraînement\n"
   ]
  },
  {
   "cell_type": "markdown",
   "id": "e2ba98e7",
   "metadata": {},
   "source": [
    "# We build our `train_dataset` and `test_dataset` \n",
    "using the `encoded_comment` columns of both DataFrames.\"\"\"\n",
    "\n"
   ]
  },
  {
   "cell_type": "code",
   "execution_count": 10,
   "id": "5f8ce718",
   "metadata": {},
   "outputs": [],
   "source": [
    "X_train = torch.tensor(df_train.encoded_comment)\n",
    "y_train = torch.tensor(df_train.label)\n",
    "X_test = torch.tensor(df_test.encoded_comment)\n",
    "y_test = torch.tensor(df_test.label)\n",
    "train_dataset = TensorDataset(X_train, y_train)\n",
    "test_dataset = TensorDataset(X_test, y_test)\n",
    "\n",
    "train_loader = DataLoader(train_dataset, batch_size = 32, shuffle = True)\n",
    "test_loader  = DataLoader(test_dataset, batch_size = 32, shuffle = False)"
   ]
  },
  {
   "cell_type": "markdown",
   "id": "fadea9ba",
   "metadata": {},
   "source": [
    "# NLP model\n",
    "\n",
    "We use the same `train` and `eval` function as the ones in the course with a `device` configuration added to be able to train and evaluate models on GPUs.\n",
    "\"\"\""
   ]
  },
  {
   "cell_type": "code",
   "execution_count": 10,
   "id": "8d94391f",
   "metadata": {},
   "outputs": [],
   "source": [
    "\n",
    "def eval(model, device, loader):\n",
    "    model.eval()\n",
    "    correct_pred = 0\n",
    "    total_pred   = 0\n",
    "    with torch.no_grad():\n",
    "        for X, y in loader:\n",
    "            X             = X.to(device)\n",
    "            y             = y.to(device)\n",
    "            y_pred        = model(X)\n",
    "            y_pred_class  = y_pred.argmax(dim = 1)\n",
    "            correct_pred += (y == y_pred_class).sum().cpu().item()\n",
    "            total_pred   += len(y)\n",
    "\n",
    "    return correct_pred / total_pred\n",
    "\n",
    "def train(model, device, epochs, optimizer, criterion, train_loader, test_loader):\n",
    "    for epoch in range(epochs):\n",
    "        model.train()\n",
    "        for batch_id, (X, y) in enumerate(train_loader):\n",
    "            X = X.to(device)\n",
    "            y = y.to(device)\n",
    "            optimizer.zero_grad()\n",
    "            y_pred = model(X)\n",
    "            loss   = criterion(y_pred, y)\n",
    "            loss.backward()\n",
    "            optimizer.step()\n",
    "        if epoch % 5 == 0:\n",
    "            print(f'[{epoch:4}] Train eval {100 * eval(model, device, train_loader):5.3f}%, Test eval {100 * eval(model, device, test_loader):5.3f}%')"
   ]
  },
  {
   "cell_type": "markdown",
   "id": "9fd58070",
   "metadata": {},
   "source": [
    "# We modify the class in order to add a RNN"
   ]
  },
  {
   "cell_type": "code",
   "execution_count": 11,
   "id": "c0231d90",
   "metadata": {},
   "outputs": [],
   "source": [
    "class RNNCommentClassifier(nn.Module):\n",
    "    def __init__(self, emb_dim, voc_size, seq_len):\n",
    "        super(RNNCommentClassifier, self).__init__()\n",
    "        self.emb      = nn.Embedding(voc_size, emb_dim)\n",
    "        self.rnn     = nn.LSTM(\n",
    "            input_size    = emb_dim,\n",
    "            hidden_size   = 64,\n",
    "            bidirectional = True,\n",
    "            dropout       = 0    \n",
    "        )\n",
    "        self.dropout = nn.Dropout(.2) # 2 directions\n",
    "        self.lin     = nn.Linear(64 * 2, 2)\n",
    "\n",
    "    def forward(self, x):                   # [batch, 72 >> expliquer comment ?]\n",
    "        x = self.emb(x)                     # [batch, 72, 5]\n",
    "        x = torch.transpose(x, 0, 1)        # [72, batch,  5]\n",
    "        \n",
    "        output, (hidden, cell) = self.rnn(x)\n",
    "        \n",
    "        hidden                 = torch.transpose(hidden, 0, 1)\n",
    "        hidden                 = torch.cat((\n",
    "            hidden[:, 0, :],\n",
    "            hidden[:, 1, :]\n",
    "        ),\n",
    "            dim = -1\n",
    "        )\n",
    "        hidden                 = self.dropout(hidden)\n",
    "        x                      = self.lin(hidden)\n",
    "        x                      = torch.log_softmax(x, dim = 1)\n",
    "    \n",
    "    \n",
    "        return x"
   ]
  },
  {
   "cell_type": "markdown",
   "id": "41ef5239",
   "metadata": {},
   "source": [
    "# Model testing on our own comment\n",
    "\n",
    "Now that our model is trained, we can test it on new comments to see how it performs. We will need to apply all the preprocessing steps that we applied on our datasets in order to feed the new data to the model.\n",
    "\"\"\""
   ]
  },
  {
   "cell_type": "code",
   "execution_count": null,
   "id": "73369915",
   "metadata": {},
   "outputs": [
    {
     "name": "stdout",
     "output_type": "stream",
     "text": [
      "RNNCommentClassifier(\n",
      "  (emb): Embedding(111749, 5)\n",
      "  (rnn): LSTM(5, 64, bidirectional=True)\n",
      "  (dropout): Dropout(p=0.2, inplace=False)\n",
      "  (lin): Linear(in_features=128, out_features=2, bias=True)\n",
      ")\n",
      "[   0] Train eval 57.012%, Test eval 53.844%\n",
      "[   5] Train eval 81.680%, Test eval 63.180%\n",
      "[  10] Train eval 89.896%, Test eval 60.784%\n",
      "[  15] Train eval 94.772%, Test eval 54.724%\n"
     ]
    }
   ],
   "source": [
    "import torch\n",
    "\n",
    "device = torch.device('cpu')\n",
    "model = RNNCommentClassifier(\n",
    "    emb_dim  = 5,\n",
    "    voc_size = len(token_to_idx),\n",
    "    seq_len  = train_dataset[0][0].shape[0]\n",
    ").to(device)\n",
    "\n",
    "\n",
    "print(model)\n",
    "\n",
    "optimizer = optim.Adam(model.parameters())\n",
    "criterion = nn.NLLLoss()\n",
    "train(model, device, 151, optimizer, criterion, train_loader, test_loader)\n",
    "\n",
    "# our_comment = input()\n",
    "# our_comment = '''My god, that was AWFUL. Just random made-for-trailer tiny scenes that add to nothing, have zero depth and don't make up a coherent plot. Wall-to-wall inappropriate songs that come at random times. Boring plot (if you can even call it that), boring and indistinguishable flat characters. Harley Quinn was annoying. Jared Leto did his best as The Joker but had absolutely nothing to work with - he just appears at random times for a few seconds and disappears. There's no depth and no story. If you've seen the trailers, you basically saw all the one-liners and \"money shots\".\n",
    "\n",
    "# If all that isn't enough, the last third of the movie is simply unwatchable.\n",
    "\n",
    "# I don't think David Ayer is a bad director (I liked HARSH TIMES and FURY), but this is definitely his worst movie yet and I'm pretty sure it's due to massive pressure from the producers.'''\n",
    "#our_comment = '''Fight Club is one of the most unique films I have ever seen. In addition to presenting a rather fresh take on life, FC also presents its material in a fresh way. My main interest in the film is in that, in my opinion, it does not present characters for us to think about. Rather, it presents actions for us to think about. I will say that I cannot recall *ever* having been \"asked\" by a film to both suspend my disbelief the way this film asks in its third act AND at the same time come to terms with an understanding that there is no room--or need--for disbelief.\n",
    "\n",
    "#Perhaps these comments will not make sense to the average movie goer who will dismiss this film--and, unfortunately, its premise--as another hollywood flick filled with gratuitous violence. I'd go as far as to say that this film is not about violence. It is about choices. It is about activity. It is about lethargy. It is about waking up and realizing that at some point in the past we've gone to the toilet and thrown up our dreams without even realizing that society has stuck its fingers down our throat.\n",
    "\n",
    "#I would argue that anyone caught, at some point in their lives, between a rock and a hard place--anyone who has reached bottom on a mental level--anyone who has uttered to themselves \"Wait, this isn't right. I would not do/say/feel what it is that I just did/said/felt... I do not like this. I must change before I am forever stuck being the person that I am not.\" These people, they will know what I'm talking about. These people will not only recognize the similarities between Edward Norton's character and themselves--they will be uncomfortably familiar with him. These people will appreciate Fight Club for what it is: a wake up call that we are not alone.\n",
    "\n",
    "#As David Berman once said: \"I'm afraid I've got more in common with who I was than who I am becoming.\" If this sentence makes any sense to you, go see Fight Club. You won't regret it.\n",
    "\n",
    "#L.'''\n",
    "\n",
    "our_comment = \"I loved the movie, however it is sadly yet another film seen recently, hence some reiteration because the exact same strengths and flaws are here present in those films, that to me was  disappointing considering its potential which it doesn't do anywhere near enough with.\"\n",
    "\n",
    "for punctuation in punctuation_characters:\n",
    "    our_comment = our_comment.replace(punctuation, f' {punctuation} ')\n",
    "print('Our comment:', our_comment)\n",
    "\n",
    "our_comment_split = our_comment.lower().split()\n",
    "print('Our tokenized comment:', our_comment_split)\n",
    "\n",
    "our_comment_padded = pad_comment(our_comment_split, max_token_comment)\n",
    "print('Our comment padded:', our_comment_padded[:20])\n",
    "\n",
    "our_comment_encoded = encode(our_comment_padded, token_to_idx)\n",
    "print('Our comment encoded:', our_comment_encoded[:20])\n",
    "\n",
    "our_comment_tensor = torch.tensor(our_comment_encoded)\n",
    "print('Our comment tensor shape:', our_comment_tensor.shape)\n",
    "\n"
   ]
  },
  {
   "cell_type": "markdown",
   "id": "ea54dd15",
   "metadata": {},
   "source": [
    "# PyTorch models always work with batches of data. \n",
    "As we only have a single sample, we simply reshape it to `[1, 500]` to make it a set of 1 example of length 500.\"\"\""
   ]
  },
  {
   "cell_type": "code",
   "execution_count": null,
   "id": "11c93421",
   "metadata": {},
   "outputs": [],
   "source": [
    "our_comment_batch = our_comment_tensor.unsqueeze(0)\n",
    "our_comment_batch = our_comment_batch.to(device)\n",
    "print('Our comment batch shape:', our_comment_batch.shape)\n",
    "\n",
    "model_pred = model(our_comment_batch)[0]\n",
    "print('Log-Softmax output of the model:', model_pred)   # the model output is the logarithm of the softmax values\n",
    "print('Softmax output of the model:', model_pred.exp()) # to get the real softmax values, we simply take the exponential\n",
    "\n",
    "confidence_negative, confidence_positive = model_pred.exp().cpu().detach().numpy()\n",
    "print('Our comment was:', our_comment)\n",
    "print('\\nThe model prediction are:')\n",
    "print(f'\\t{100 * confidence_negative:5.3f}% for the negative class')\n",
    "print(f'\\t{100 * confidence_positive:5.3f}% for the positive class.')"
   ]
  },
  {
   "cell_type": "markdown",
   "id": "619352d7",
   "metadata": {},
   "source": [
    "# Print the result"
   ]
  },
  {
   "cell_type": "code",
   "execution_count": 55,
   "id": "5a62a627",
   "metadata": {},
   "outputs": [
    {
     "name": "stdout",
     "output_type": "stream",
     "text": [
      "MLPCommentClassifier(\n",
      "  (emb): Embedding(111749, 100)\n",
      "  (lin1): Linear(in_features=50000, out_features=64, bias=True)\n",
      "  (dropout1): Dropout(p=0.7, inplace=False)\n",
      "  (lin2): Linear(in_features=64, out_features=64, bias=True)\n",
      "  (dropout2): Dropout(p=0.4, inplace=False)\n",
      "  (lin3): Linear(in_features=64, out_features=2, bias=True)\n",
      ")\n",
      "[   0] Train Loss: 0.7328, Train Acc: 0.5032, Test Acc: 0.5000\n",
      "[   5] Train Loss: 0.6860, Train Acc: 0.5116, Test Acc: 0.5014\n",
      "[  10] Train Loss: 0.6834, Train Acc: 0.5132, Test Acc: 0.4997\n",
      "[  15] Train Loss: 0.6878, Train Acc: 0.5106, Test Acc: 0.5036\n",
      "[  20] Train Loss: 0.6790, Train Acc: 0.5146, Test Acc: 0.5032\n",
      "[  25] Train Loss: 0.6794, Train Acc: 0.5154, Test Acc: 0.5040\n",
      "[  30] Train Loss: 0.6796, Train Acc: 0.5140, Test Acc: 0.5040\n",
      "[  35] Train Loss: 0.6772, Train Acc: 0.5128, Test Acc: 0.5039\n",
      "[  40] Train Loss: 0.6782, Train Acc: 0.5151, Test Acc: 0.5030\n",
      "[  45] Train Loss: 0.6773, Train Acc: 0.5153, Test Acc: 0.5046\n",
      "[  50] Train Loss: 0.6779, Train Acc: 0.5149, Test Acc: 0.5056\n",
      "[  55] Train Loss: 0.6767, Train Acc: 0.5174, Test Acc: 0.5056\n",
      "[  60] Train Loss: 0.6756, Train Acc: 0.5188, Test Acc: 0.5069\n",
      "[  65] Train Loss: 0.6775, Train Acc: 0.5155, Test Acc: 0.5060\n",
      "[  70] Train Loss: 0.6759, Train Acc: 0.5178, Test Acc: 0.5056\n",
      "[  75] Train Loss: 0.6763, Train Acc: 0.5158, Test Acc: 0.5053\n",
      "[  80] Train Loss: 0.6749, Train Acc: 0.5197, Test Acc: 0.5057\n",
      "[  85] Train Loss: 0.6744, Train Acc: 0.5202, Test Acc: 0.5068\n",
      "[  90] Train Loss: 0.6742, Train Acc: 0.5184, Test Acc: 0.5054\n",
      "[  95] Train Loss: 0.6745, Train Acc: 0.5189, Test Acc: 0.5008\n",
      "[ 100] Train Loss: 0.6759, Train Acc: 0.5207, Test Acc: 0.5005\n",
      "[ 105] Train Loss: 0.6751, Train Acc: 0.5197, Test Acc: 0.5057\n",
      "[ 110] Train Loss: 0.6806, Train Acc: 0.5189, Test Acc: 0.5066\n",
      "[ 115] Train Loss: 0.6737, Train Acc: 0.5203, Test Acc: 0.5080\n",
      "[ 120] Train Loss: 0.6746, Train Acc: 0.5209, Test Acc: 0.5056\n",
      "[ 125] Train Loss: 0.6745, Train Acc: 0.5193, Test Acc: 0.5060\n",
      "[ 130] Train Loss: 0.6735, Train Acc: 0.5211, Test Acc: 0.5058\n",
      "[ 135] Train Loss: 0.6746, Train Acc: 0.5174, Test Acc: 0.5055\n",
      "[ 140] Train Loss: 0.6777, Train Acc: 0.5224, Test Acc: 0.5060\n",
      "[ 145] Train Loss: 0.6734, Train Acc: 0.5218, Test Acc: 0.5060\n",
      "[ 150] Train Loss: 0.6734, Train Acc: 0.5212, Test Acc: 0.5056\n"
     ]
    },
    {
     "data": {
      "image/png": "[encoded data removed]",
      "text/plain": [
       "<Figure size 576x432 with 1 Axes>"
      ]
     },
     "metadata": {
      "needs_background": "light"
     },
     "output_type": "display_data"
    }
   ],
   "source": [
    "device = torch.device('cpu')\n",
    "model = MLPCommentClassifier(\n",
    "    emb_dim=100,\n",
    "    voc_size=len(token_to_idx),\n",
    "    seq_len=max_token_comment\n",
    ").to(device)\n",
    "print(model)\n",
    "\n",
    "optimizer = optim.Adam(model.parameters())\n",
    "criterion = nn.NLLLoss()\n",
    "train_losses = []\n",
    "test_losses = []\n",
    "train_accuracies = []\n",
    "test_accuracies = []\n",
    "\n",
    "for epoch in range(151):\n",
    "    model.train()\n",
    "    epoch_train_losses = []\n",
    "    correct_pred = 0\n",
    "    total_pred = 0\n",
    "    for batch_id, (X, y) in enumerate(train_loader):\n",
    "        X = X.to(device)\n",
    "        y = y.to(device)\n",
    "        optimizer.zero_grad()\n",
    "        y_pred = model(X)\n",
    "        loss = criterion(y_pred, y)\n",
    "        loss.backward()\n",
    "        optimizer.step()\n",
    "        epoch_train_losses.append(loss.item())\n",
    "\n",
    "        y_pred_class = y_pred.argmax(dim=1)\n",
    "        correct_pred += (y == y_pred_class).sum().item()\n",
    "        total_pred += len(y)\n",
    "\n",
    "    train_loss = sum(epoch_train_losses) / len(epoch_train_losses)\n",
    "    train_accuracy = correct_pred / total_pred\n",
    "    train_losses.append(train_loss)\n",
    "    train_accuracies.append(train_accuracy)\n",
    "\n",
    "    test_accuracy = eval(model, device, test_loader)\n",
    "    test_accuracies.append(test_accuracy)\n",
    "\n",
    "    if epoch % 5 == 0:\n",
    "        print(f'[{epoch:4}] Train Loss: {train_loss:.4f}, Train Acc: {train_accuracy:.4f}, Test Acc: {test_accuracy:.4f}')\n",
    "\n",
    "# Plot the training and testing accuracies\n",
    "epochs = range(len(train_accuracies))\n",
    "plt.figure(figsize=(8, 6))\n",
    "plt.plot(epochs, train_accuracies, label='Train Accuracy')\n",
    "plt.plot(epochs, test_accuracies, label='Test Accuracy')\n",
    "plt.xlabel('Epochs')\n",
    "plt.ylabel('Accuracy')\n",
    "plt.title('Model Accuracy')\n",
    "plt.legend()\n",
    "plt.show()\n"
   ]
  },
  {
   "cell_type": "code",
   "execution_count": null,
   "id": "b2d1bb16",
   "metadata": {},
   "outputs": [],
   "source": []
  }
 ],
 "metadata": {
  "kernelspec": {
   "display_name": "Python 3 (ipykernel)",
   "language": "python",
   "name": "python3"
  },
  "language_info": {
   "codemirror_mode": {
    "name": "ipython",
    "version": 3
   },
   "file_extension": ".py",
   "mimetype": "text/x-python",
   "name": "python",
   "nbconvert_exporter": "python",
   "pygments_lexer": "ipython3",
   "version": "3.9.7"
  }
 },
 "nbformat": 4,
 "nbformat_minor": 5
}
